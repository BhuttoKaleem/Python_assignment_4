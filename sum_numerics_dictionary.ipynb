{
 "cells": [
  {
   "cell_type": "code",
   "execution_count": 23,
   "metadata": {},
   "outputs": [
    {
     "name": "stdout",
     "output_type": "stream",
     "text": [
      "304\n"
     ]
    }
   ],
   "source": [
    "dict = {\n",
    "    \"value1\": 8,\n",
    "    \"value2\": 8,\n",
    "    \"value3\": 9,\n",
    "    \"value4\": 90,\n",
    "    \"value\": 189\n",
    "}\n",
    "sum = 0;\n",
    "for i in dict.values():\n",
    "    sum +=i;\n",
    "print(sum);"
   ]
  }
 ],
 "metadata": {
  "kernelspec": {
   "display_name": "Python 3",
   "language": "python",
   "name": "python3"
  },
  "language_info": {
   "codemirror_mode": {
    "name": "ipython",
    "version": 3
   },
   "file_extension": ".py",
   "mimetype": "text/x-python",
   "name": "python",
   "nbconvert_exporter": "python",
   "pygments_lexer": "ipython3",
   "version": "3.7.4"
  }
 },
 "nbformat": 4,
 "nbformat_minor": 2
}
