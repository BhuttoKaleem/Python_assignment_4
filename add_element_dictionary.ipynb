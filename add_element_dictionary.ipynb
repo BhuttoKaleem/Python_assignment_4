{
 "cells": [
  {
   "cell_type": "code",
   "execution_count": 7,
   "metadata": {},
   "outputs": [
    {
     "name": "stdout",
     "output_type": "stream",
     "text": [
      "Enter nameKaleemullah\n",
      "Enter surnameBhutto\n",
      "Enter CNIC #4330396609011\n",
      "Enter Cell number03122279331\n",
      "Enter cityLakhi\n",
      "{'name': 'Kaleemullah', 'surname': 'Bhutto', 'cnic': 4330396609011, 'cell#': 3122279331, 'city': 'Lakhi'}\n"
     ]
    }
   ],
   "source": [
    "name = input(\"Enter name\");\n",
    "surname = input(\"Enter surname\");\n",
    "cnic = int(input(\"Enter CNIC #\"));\n",
    "cell = int(input(\"Enter Cell number\"));\n",
    "dict = {\n",
    "    \"name\": name,\n",
    "    \"surname\": surname,\n",
    "    \"cnic\": cnic,\n",
    "    \"cell#\": cell\n",
    "}\n",
    "dict[\"city\"] = input(\"Enter city\");\n",
    "print(dict);"
   ]
  },
  {
   "cell_type": "code",
   "execution_count": null,
   "metadata": {},
   "outputs": [],
   "source": []
  }
 ],
 "metadata": {
  "kernelspec": {
   "display_name": "Python 3",
   "language": "python",
   "name": "python3"
  },
  "language_info": {
   "codemirror_mode": {
    "name": "ipython",
    "version": 3
   },
   "file_extension": ".py",
   "mimetype": "text/x-python",
   "name": "python",
   "nbconvert_exporter": "python",
   "pygments_lexer": "ipython3",
   "version": "3.7.4"
  }
 },
 "nbformat": 4,
 "nbformat_minor": 2
}
