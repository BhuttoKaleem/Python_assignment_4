{
 "cells": [
  {
   "cell_type": "code",
   "execution_count": null,
   "metadata": {},
   "outputs": [],
   "source": [
    "lst = [\"a\",1,2,\"y\"];\n",
    "element = int(input(\"Enter a number\"));\n",
    "error = 1;\n",
    "for i in lst:\n",
    "    error = 1;\n",
    "    error1 = 0;\n",
    "    if(i==element and error == 1):\n",
    "        print(\"Number exists\");\n",
    "    elif(i != element and error1 == 0):\n",
    "        print(\"Number doesn't exist\");"
   ]
  },
  {
   "cell_type": "code",
   "execution_count": null,
   "metadata": {},
   "outputs": [],
   "source": []
  }
 ],
 "metadata": {
  "kernelspec": {
   "display_name": "Python 3",
   "language": "python",
   "name": "python3"
  },
  "language_info": {
   "codemirror_mode": {
    "name": "ipython",
    "version": 3
   },
   "file_extension": ".py",
   "mimetype": "text/x-python",
   "name": "python",
   "nbconvert_exporter": "python",
   "pygments_lexer": "ipython3",
   "version": "3.7.4"
  }
 },
 "nbformat": 4,
 "nbformat_minor": 2
}
