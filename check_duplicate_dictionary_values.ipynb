{
 "cells": [
  {
   "cell_type": "code",
   "execution_count": 12,
   "metadata": {},
   "outputs": [
    {
     "name": "stdout",
     "output_type": "stream",
     "text": [
      "Enter key to check:key1\n",
      "Key exists and value of the key is: This is the key1\n"
     ]
    }
   ],
   "source": [
    "dict = {\n",
    "    \"key1\":\"This is the key1\",\n",
    "    \"key2\":\"This is key no: 2\",\n",
    "    \"key3\":\"This is also the key\",\n",
    "    \"key2\":\"But this is not the valid key\"\n",
    "}\n",
    "key=input(\"Enter key to check:\")\n",
    "if key in dict.keys():\n",
    "      print(\"Key exists and value of the key is: \"+dict[key])\n",
    "else:\n",
    "      print(\"Key doesn't exist\")"
   ]
  },
  {
   "cell_type": "code",
   "execution_count": null,
   "metadata": {},
   "outputs": [],
   "source": []
  }
 ],
 "metadata": {
  "kernelspec": {
   "display_name": "Python 3",
   "language": "python",
   "name": "python3"
  },
  "language_info": {
   "codemirror_mode": {
    "name": "ipython",
    "version": 3
   },
   "file_extension": ".py",
   "mimetype": "text/x-python",
   "name": "python",
   "nbconvert_exporter": "python",
   "pygments_lexer": "ipython3",
   "version": "3.7.4"
  }
 },
 "nbformat": 4,
 "nbformat_minor": 2
}
